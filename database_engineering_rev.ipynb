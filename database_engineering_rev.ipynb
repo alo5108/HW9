{
 "cells": [
  {
   "cell_type": "code",
   "execution_count": 55,
   "metadata": {
    "collapsed": true
   },
   "outputs": [],
   "source": [
    "import matplotlib.pyplot as plt\n",
    "import pandas as pd\n",
    "import numpy as np\n",
    "\n",
    "# SQL Alchemy\n",
    "from sqlalchemy import create_engine\n",
    "\n",
    "# PyMySQL \n",
    "import pymysql\n",
    "pymysql.install_as_MySQLdb()\n",
    "\n",
    "# Imports the methods needed to abstract classes into tables\n",
    "from sqlalchemy.ext.declarative import declarative_base\n",
    "Base = declarative_base()\n",
    "\n",
    "# Allow us to declare column types\n",
    "from sqlalchemy import Column, Integer, String, Date, Float \n",
    "import datetime as dt\n",
    "import numpy as np\n",
    "import pandas as pd\n",
    "\n",
    "import sqlalchemy\n",
    "from sqlalchemy.ext.automap import automap_base\n",
    "from sqlalchemy.orm import Session\n",
    "from sqlalchemy import create_engine, func\n",
    "\n",
    "from flask import Flask, jsonify"
   ]
  },
  {
   "cell_type": "code",
   "execution_count": 56,
   "metadata": {
    "scrolled": true
   },
   "outputs": [
    {
     "data": {
      "text/html": [
       "<div>\n",
       "<style scoped>\n",
       "    .dataframe tbody tr th:only-of-type {\n",
       "        vertical-align: middle;\n",
       "    }\n",
       "\n",
       "    .dataframe tbody tr th {\n",
       "        vertical-align: top;\n",
       "    }\n",
       "\n",
       "    .dataframe thead th {\n",
       "        text-align: right;\n",
       "    }\n",
       "</style>\n",
       "<table border=\"1\" class=\"dataframe\">\n",
       "  <thead>\n",
       "    <tr style=\"text-align: right;\">\n",
       "      <th></th>\n",
       "      <th>Unnamed: 0</th>\n",
       "      <th>station</th>\n",
       "      <th>date</th>\n",
       "      <th>prcp</th>\n",
       "      <th>tobs</th>\n",
       "      <th>name</th>\n",
       "      <th>latitude</th>\n",
       "      <th>longitude</th>\n",
       "      <th>elevation</th>\n",
       "    </tr>\n",
       "  </thead>\n",
       "  <tbody>\n",
       "    <tr>\n",
       "      <th>0</th>\n",
       "      <td>0</td>\n",
       "      <td>USC00519397</td>\n",
       "      <td>2010-01-01</td>\n",
       "      <td>0.08</td>\n",
       "      <td>65</td>\n",
       "      <td>WAIKIKI 717.2, HI US</td>\n",
       "      <td>21.2716</td>\n",
       "      <td>-157.8168</td>\n",
       "      <td>3.0</td>\n",
       "    </tr>\n",
       "    <tr>\n",
       "      <th>1</th>\n",
       "      <td>1</td>\n",
       "      <td>USC00519397</td>\n",
       "      <td>2010-01-02</td>\n",
       "      <td>0.00</td>\n",
       "      <td>63</td>\n",
       "      <td>WAIKIKI 717.2, HI US</td>\n",
       "      <td>21.2716</td>\n",
       "      <td>-157.8168</td>\n",
       "      <td>3.0</td>\n",
       "    </tr>\n",
       "    <tr>\n",
       "      <th>2</th>\n",
       "      <td>2</td>\n",
       "      <td>USC00519397</td>\n",
       "      <td>2010-01-03</td>\n",
       "      <td>0.00</td>\n",
       "      <td>74</td>\n",
       "      <td>WAIKIKI 717.2, HI US</td>\n",
       "      <td>21.2716</td>\n",
       "      <td>-157.8168</td>\n",
       "      <td>3.0</td>\n",
       "    </tr>\n",
       "    <tr>\n",
       "      <th>3</th>\n",
       "      <td>3</td>\n",
       "      <td>USC00519397</td>\n",
       "      <td>2010-01-04</td>\n",
       "      <td>0.00</td>\n",
       "      <td>76</td>\n",
       "      <td>WAIKIKI 717.2, HI US</td>\n",
       "      <td>21.2716</td>\n",
       "      <td>-157.8168</td>\n",
       "      <td>3.0</td>\n",
       "    </tr>\n",
       "    <tr>\n",
       "      <th>4</th>\n",
       "      <td>5</td>\n",
       "      <td>USC00519397</td>\n",
       "      <td>2010-01-07</td>\n",
       "      <td>0.06</td>\n",
       "      <td>70</td>\n",
       "      <td>WAIKIKI 717.2, HI US</td>\n",
       "      <td>21.2716</td>\n",
       "      <td>-157.8168</td>\n",
       "      <td>3.0</td>\n",
       "    </tr>\n",
       "    <tr>\n",
       "      <th>5</th>\n",
       "      <td>6</td>\n",
       "      <td>USC00519397</td>\n",
       "      <td>2010-01-08</td>\n",
       "      <td>0.00</td>\n",
       "      <td>64</td>\n",
       "      <td>WAIKIKI 717.2, HI US</td>\n",
       "      <td>21.2716</td>\n",
       "      <td>-157.8168</td>\n",
       "      <td>3.0</td>\n",
       "    </tr>\n",
       "    <tr>\n",
       "      <th>6</th>\n",
       "      <td>7</td>\n",
       "      <td>USC00519397</td>\n",
       "      <td>2010-01-09</td>\n",
       "      <td>0.00</td>\n",
       "      <td>68</td>\n",
       "      <td>WAIKIKI 717.2, HI US</td>\n",
       "      <td>21.2716</td>\n",
       "      <td>-157.8168</td>\n",
       "      <td>3.0</td>\n",
       "    </tr>\n",
       "    <tr>\n",
       "      <th>7</th>\n",
       "      <td>8</td>\n",
       "      <td>USC00519397</td>\n",
       "      <td>2010-01-10</td>\n",
       "      <td>0.00</td>\n",
       "      <td>73</td>\n",
       "      <td>WAIKIKI 717.2, HI US</td>\n",
       "      <td>21.2716</td>\n",
       "      <td>-157.8168</td>\n",
       "      <td>3.0</td>\n",
       "    </tr>\n",
       "    <tr>\n",
       "      <th>8</th>\n",
       "      <td>9</td>\n",
       "      <td>USC00519397</td>\n",
       "      <td>2010-01-11</td>\n",
       "      <td>0.01</td>\n",
       "      <td>64</td>\n",
       "      <td>WAIKIKI 717.2, HI US</td>\n",
       "      <td>21.2716</td>\n",
       "      <td>-157.8168</td>\n",
       "      <td>3.0</td>\n",
       "    </tr>\n",
       "    <tr>\n",
       "      <th>9</th>\n",
       "      <td>10</td>\n",
       "      <td>USC00519397</td>\n",
       "      <td>2010-01-12</td>\n",
       "      <td>0.00</td>\n",
       "      <td>61</td>\n",
       "      <td>WAIKIKI 717.2, HI US</td>\n",
       "      <td>21.2716</td>\n",
       "      <td>-157.8168</td>\n",
       "      <td>3.0</td>\n",
       "    </tr>\n",
       "  </tbody>\n",
       "</table>\n",
       "</div>"
      ],
      "text/plain": [
       "   Unnamed: 0      station        date  prcp  tobs                  name  \\\n",
       "0           0  USC00519397  2010-01-01  0.08    65  WAIKIKI 717.2, HI US   \n",
       "1           1  USC00519397  2010-01-02  0.00    63  WAIKIKI 717.2, HI US   \n",
       "2           2  USC00519397  2010-01-03  0.00    74  WAIKIKI 717.2, HI US   \n",
       "3           3  USC00519397  2010-01-04  0.00    76  WAIKIKI 717.2, HI US   \n",
       "4           5  USC00519397  2010-01-07  0.06    70  WAIKIKI 717.2, HI US   \n",
       "5           6  USC00519397  2010-01-08  0.00    64  WAIKIKI 717.2, HI US   \n",
       "6           7  USC00519397  2010-01-09  0.00    68  WAIKIKI 717.2, HI US   \n",
       "7           8  USC00519397  2010-01-10  0.00    73  WAIKIKI 717.2, HI US   \n",
       "8           9  USC00519397  2010-01-11  0.01    64  WAIKIKI 717.2, HI US   \n",
       "9          10  USC00519397  2010-01-12  0.00    61  WAIKIKI 717.2, HI US   \n",
       "\n",
       "   latitude  longitude  elevation  \n",
       "0   21.2716  -157.8168        3.0  \n",
       "1   21.2716  -157.8168        3.0  \n",
       "2   21.2716  -157.8168        3.0  \n",
       "3   21.2716  -157.8168        3.0  \n",
       "4   21.2716  -157.8168        3.0  \n",
       "5   21.2716  -157.8168        3.0  \n",
       "6   21.2716  -157.8168        3.0  \n",
       "7   21.2716  -157.8168        3.0  \n",
       "8   21.2716  -157.8168        3.0  \n",
       "9   21.2716  -157.8168        3.0  "
      ]
     },
     "execution_count": 56,
     "metadata": {},
     "output_type": "execute_result"
    }
   ],
   "source": [
    "# inport csv data into pandas\n",
    "hawaiidata = \"clean_hawaii2.csv\"\n",
    "\n",
    "hawaii_df = pd.read_csv(hawaiidata)\n",
    "hawaii_df.head(10)"
   ]
  },
  {
   "cell_type": "code",
   "execution_count": 57,
   "metadata": {
    "collapsed": true
   },
   "outputs": [],
   "source": [
    "engine = create_engine(\"sqlite:///hawaii.sqlite\", echo=False)\n",
    "Base.metadata.create_all(engine)\n",
    "session = Session(engine)"
   ]
  },
  {
   "cell_type": "code",
   "execution_count": 58,
   "metadata": {},
   "outputs": [],
   "source": [
    "class Measurement(Base):\n",
    "    __tablename__ = 'measurement_coll'\n",
    "    id = Column(Integer, primary_key=True)\n",
    "    station = Column(String(255))\n",
    "    latitude = Column(Float)\n",
    "    longitude = Column(Float)\n",
    "    elevation=Column(Float)\n",
    "    \n",
    "class Station(Base):\n",
    "    __tablename__ = 'station_coll'\n",
    "    id = Column(Integer, primary_key=True)\n",
    "    station=Column(String(255))\n",
    "    name=Column(String(255))\n",
    "    date=Column(Date)\n",
    "    prcp=Column(Float)\n",
    "    tobs=Column(Integer)"
   ]
  },
  {
   "cell_type": "code",
   "execution_count": 59,
   "metadata": {
    "collapsed": true
   },
   "outputs": [],
   "source": [
    "!rm hawaii.sqlite"
   ]
  },
  {
   "cell_type": "code",
   "execution_count": 60,
   "metadata": {},
   "outputs": [],
   "source": [
    "hawaii_df.to_sql(con=engine, name=Measurement.__tablename__, if_exists='append', index_label = \"id\")"
   ]
  },
  {
   "cell_type": "code",
   "execution_count": 61,
   "metadata": {},
   "outputs": [
    {
     "data": {
      "text/plain": [
       "['measurement_coll']"
      ]
     },
     "execution_count": 61,
     "metadata": {},
     "output_type": "execute_result"
    }
   ],
   "source": [
    "from sqlalchemy import  inspect\n",
    "inspector = inspect(engine)\n",
    "inspector.get_table_names()"
   ]
  },
  {
   "cell_type": "code",
   "execution_count": 62,
   "metadata": {
    "collapsed": true
   },
   "outputs": [],
   "source": [
    "columns = inspector.get_columns('measurement')\n",
    "for column in columns:\n",
    "    print(column[\"name\"], column[\"type\"])"
   ]
  },
  {
   "cell_type": "raw",
   "metadata": {},
   "source": [
    "Precipitation = Base.classes.measurement_coll"
   ]
  },
  {
   "cell_type": "code",
   "execution_count": 63,
   "metadata": {
    "collapsed": true
   },
   "outputs": [],
   "source": [
    "app = Flask(__name__)"
   ]
  },
  {
   "cell_type": "code",
   "execution_count": 53,
   "metadata": {},
   "outputs": [],
   "source": [
    "@app.route(\"/\")\n",
    "def welcome():\n",
    "    return (\n",
    "        f\"Available Routes:<br/>\"\n",
    "        f\"/api/v1.0/precipitation<br/>\"\n",
    "        f\"/api/v1.0/tobs,<br/>\"\n",
    "        f\"/api/v1.0/stations\"\n",
    "        )\n",
    "\n",
    "@app.route(\"/api/v1.0/precipitation\")\n",
    "def weath():\n",
    "    results=session.query(Precipitation.date).all()\n",
    "    all_rain = list(np.ravel(results))\n",
    "    return jsonify(all_rain)\n",
    "\n",
    "@app.route(\"/api/v1.0/precipitation\")\n",
    "def temp():\n",
    "    results = session.query(Precipitation.tobs).all()\n",
    "    all_temp = list(np.ravel(results))\n",
    "    return jsonify(all_temp)\n",
    "\n",
    "@app.route(\"/api/v1.0/stations\")\n",
    "def stations():\n",
    "    results=session.query(Precipitation.station).all()\n",
    "    all_stations= list(np.ravel(results))\n",
    "    return jsonify(all_stations)\n",
    "\n",
    "    all_weath = []\n",
    "    for weather in results:\n",
    "        weather_dict = {}\n",
    "        weather_dict [\"date\"] = weather.date\n",
    "        weather_dict [\"tobs\"] = weather.tobs\n",
    "        all_weath.append(weather_dict)\n",
    "        return jsonify(all_weath)"
   ]
  },
  {
   "cell_type": "code",
   "execution_count": 54,
   "metadata": {},
   "outputs": [
    {
     "name": "stderr",
     "output_type": "stream",
     "text": [
      " * Restarting with stat\n"
     ]
    },
    {
     "ename": "SystemExit",
     "evalue": "1",
     "output_type": "error",
     "traceback": [
      "An exception has occurred, use %tb to see the full traceback.\n",
      "\u001b[1;31mSystemExit\u001b[0m\u001b[1;31m:\u001b[0m 1\n"
     ]
    },
    {
     "name": "stderr",
     "output_type": "stream",
     "text": [
      "C:\\Users\\alexa\\Anaconda3\\lib\\site-packages\\IPython\\core\\interactiveshell.py:2870: UserWarning: To exit: use 'exit', 'quit', or Ctrl-D.\n",
      "  warn(\"To exit: use 'exit', 'quit', or Ctrl-D.\", stacklevel=1)\n"
     ]
    }
   ],
   "source": [
    "if __name__ == '__main__':\n",
    "    app.run(debug=True)"
   ]
  },
  {
   "cell_type": "code",
   "execution_count": null,
   "metadata": {
    "collapsed": true
   },
   "outputs": [],
   "source": []
  }
 ],
 "metadata": {
  "kernelspec": {
   "display_name": "Python 3",
   "language": "python",
   "name": "python3"
  },
  "language_info": {
   "codemirror_mode": {
    "name": "ipython",
    "version": 3
   },
   "file_extension": ".py",
   "mimetype": "text/x-python",
   "name": "python",
   "nbconvert_exporter": "python",
   "pygments_lexer": "ipython3",
   "version": "3.6.3"
  }
 },
 "nbformat": 4,
 "nbformat_minor": 2
}
